{
 "cells": [
  {
   "cell_type": "code",
   "execution_count": 2,
   "id": "32dca170",
   "metadata": {},
   "outputs": [],
   "source": [
    "import pandas as pd\n",
    "import numpy as np\n",
    "import matplotlib.pyplot as plt"
   ]
  },
  {
   "cell_type": "code",
   "execution_count": 3,
   "id": "5295b85c",
   "metadata": {
    "scrolled": true
   },
   "outputs": [
    {
     "data": {
      "text/html": [
       "<div>\n",
       "<style scoped>\n",
       "    .dataframe tbody tr th:only-of-type {\n",
       "        vertical-align: middle;\n",
       "    }\n",
       "\n",
       "    .dataframe tbody tr th {\n",
       "        vertical-align: top;\n",
       "    }\n",
       "\n",
       "    .dataframe thead th {\n",
       "        text-align: right;\n",
       "    }\n",
       "</style>\n",
       "<table border=\"1\" class=\"dataframe\">\n",
       "  <thead>\n",
       "    <tr style=\"text-align: right;\">\n",
       "      <th></th>\n",
       "      <th>YEAR</th>\n",
       "      <th>MONTH</th>\n",
       "      <th>COMMODITY</th>\n",
       "      <th>WEIGHT, KG PER BAG</th>\n",
       "      <th>PRICE, ¢ GH</th>\n",
       "    </tr>\n",
       "  </thead>\n",
       "  <tbody>\n",
       "    <tr>\n",
       "      <th>0</th>\n",
       "      <td>2008</td>\n",
       "      <td>JANUARY</td>\n",
       "      <td>MAIZE</td>\n",
       "      <td>100</td>\n",
       "      <td>13.694</td>\n",
       "    </tr>\n",
       "    <tr>\n",
       "      <th>1</th>\n",
       "      <td>2008</td>\n",
       "      <td>FEBRUARY</td>\n",
       "      <td>MAIZE</td>\n",
       "      <td>100</td>\n",
       "      <td>13.066</td>\n",
       "    </tr>\n",
       "    <tr>\n",
       "      <th>2</th>\n",
       "      <td>2008</td>\n",
       "      <td>MARCH</td>\n",
       "      <td>MAIZE</td>\n",
       "      <td>100</td>\n",
       "      <td>14.043</td>\n",
       "    </tr>\n",
       "    <tr>\n",
       "      <th>3</th>\n",
       "      <td>2008</td>\n",
       "      <td>APRIL</td>\n",
       "      <td>MAIZE</td>\n",
       "      <td>100</td>\n",
       "      <td>14.947</td>\n",
       "    </tr>\n",
       "    <tr>\n",
       "      <th>4</th>\n",
       "      <td>2008</td>\n",
       "      <td>MAY</td>\n",
       "      <td>MAIZE</td>\n",
       "      <td>100</td>\n",
       "      <td>14.808</td>\n",
       "    </tr>\n",
       "  </tbody>\n",
       "</table>\n",
       "</div>"
      ],
      "text/plain": [
       "   YEAR     MONTH COMMODITY  WEIGHT, KG PER BAG   PRICE, ¢ GH\n",
       "0  2008   JANUARY     MAIZE                 100        13.694\n",
       "1  2008  FEBRUARY     MAIZE                 100        13.066\n",
       "2  2008     MARCH     MAIZE                 100        14.043\n",
       "3  2008     APRIL     MAIZE                 100        14.947\n",
       "4  2008       MAY     MAIZE                 100        14.808"
      ]
     },
     "execution_count": 3,
     "metadata": {},
     "output_type": "execute_result"
    }
   ],
   "source": [
    "ws_price = pd.read_csv('national_wholesale_price.csv', encoding = \"ISO-8859-1\", engine='python')\n",
    "ws_price.head()"
   ]
  },
  {
   "cell_type": "code",
   "execution_count": 4,
   "id": "04c07996",
   "metadata": {},
   "outputs": [
    {
     "name": "stdout",
     "output_type": "stream",
     "text": [
      "<class 'pandas.core.frame.DataFrame'>\n",
      "RangeIndex: 720 entries, 0 to 719\n",
      "Data columns (total 5 columns):\n",
      " #   Column              Non-Null Count  Dtype  \n",
      "---  ------              --------------  -----  \n",
      " 0   YEAR                720 non-null    int64  \n",
      " 1   MONTH               720 non-null    object \n",
      " 2   COMMODITY           720 non-null    object \n",
      " 3   WEIGHT, KG PER BAG  720 non-null    int64  \n",
      " 4    PRICE, ¢ GH        720 non-null    float64\n",
      "dtypes: float64(1), int64(2), object(2)\n",
      "memory usage: 28.2+ KB\n"
     ]
    }
   ],
   "source": [
    "ws_price.info()"
   ]
  },
  {
   "cell_type": "markdown",
   "id": "0a898e0f",
   "metadata": {},
   "source": [
    "As shown above, there are no null values."
   ]
  },
  {
   "cell_type": "code",
   "execution_count": 5,
   "id": "5d1a35db",
   "metadata": {},
   "outputs": [
    {
     "data": {
      "text/html": [
       "<div>\n",
       "<style scoped>\n",
       "    .dataframe tbody tr th:only-of-type {\n",
       "        vertical-align: middle;\n",
       "    }\n",
       "\n",
       "    .dataframe tbody tr th {\n",
       "        vertical-align: top;\n",
       "    }\n",
       "\n",
       "    .dataframe thead th {\n",
       "        text-align: right;\n",
       "    }\n",
       "</style>\n",
       "<table border=\"1\" class=\"dataframe\">\n",
       "  <thead>\n",
       "    <tr style=\"text-align: right;\">\n",
       "      <th></th>\n",
       "      <th>YEAR</th>\n",
       "      <th>WEIGHT, KG PER BAG</th>\n",
       "      <th>PRICE, ¢ GH</th>\n",
       "    </tr>\n",
       "  </thead>\n",
       "  <tbody>\n",
       "    <tr>\n",
       "      <th>count</th>\n",
       "      <td>720.000000</td>\n",
       "      <td>720.000000</td>\n",
       "      <td>720.000000</td>\n",
       "    </tr>\n",
       "    <tr>\n",
       "      <th>mean</th>\n",
       "      <td>2012.491667</td>\n",
       "      <td>123.833333</td>\n",
       "      <td>113.982091</td>\n",
       "    </tr>\n",
       "    <tr>\n",
       "      <th>std</th>\n",
       "      <td>2.871361</td>\n",
       "      <td>56.759258</td>\n",
       "      <td>162.115749</td>\n",
       "    </tr>\n",
       "    <tr>\n",
       "      <th>min</th>\n",
       "      <td>2008.000000</td>\n",
       "      <td>91.000000</td>\n",
       "      <td>0.007000</td>\n",
       "    </tr>\n",
       "    <tr>\n",
       "      <th>25%</th>\n",
       "      <td>2010.000000</td>\n",
       "      <td>93.000000</td>\n",
       "      <td>15.141000</td>\n",
       "    </tr>\n",
       "    <tr>\n",
       "      <th>50%</th>\n",
       "      <td>2012.500000</td>\n",
       "      <td>100.000000</td>\n",
       "      <td>52.390000</td>\n",
       "    </tr>\n",
       "    <tr>\n",
       "      <th>75%</th>\n",
       "      <td>2015.000000</td>\n",
       "      <td>109.000000</td>\n",
       "      <td>140.122500</td>\n",
       "    </tr>\n",
       "    <tr>\n",
       "      <th>max</th>\n",
       "      <td>2017.000000</td>\n",
       "      <td>250.000000</td>\n",
       "      <td>920.550000</td>\n",
       "    </tr>\n",
       "  </tbody>\n",
       "</table>\n",
       "</div>"
      ],
      "text/plain": [
       "              YEAR  WEIGHT, KG PER BAG   PRICE, ¢ GH\n",
       "count   720.000000          720.000000    720.000000\n",
       "mean   2012.491667          123.833333    113.982091\n",
       "std       2.871361           56.759258    162.115749\n",
       "min    2008.000000           91.000000      0.007000\n",
       "25%    2010.000000           93.000000     15.141000\n",
       "50%    2012.500000          100.000000     52.390000\n",
       "75%    2015.000000          109.000000    140.122500\n",
       "max    2017.000000          250.000000    920.550000"
      ]
     },
     "execution_count": 5,
     "metadata": {},
     "output_type": "execute_result"
    }
   ],
   "source": [
    "ws_price.describe()"
   ]
  },
  {
   "cell_type": "code",
   "execution_count": 6,
   "id": "eefb8d3f",
   "metadata": {},
   "outputs": [
    {
     "data": {
      "text/plain": [
       "Index(['YEAR', 'MONTH', 'COMMODITY', 'WEIGHT, KG PER BAG', ' PRICE, ¢ GH'], dtype='object')"
      ]
     },
     "execution_count": 6,
     "metadata": {},
     "output_type": "execute_result"
    }
   ],
   "source": [
    "ws_price.columns"
   ]
  },
  {
   "cell_type": "markdown",
   "id": "bcd33296",
   "metadata": {},
   "source": [
    "# Univariate Analysis"
   ]
  },
  {
   "cell_type": "markdown",
   "id": "ed851f1e",
   "metadata": {},
   "source": [
    "### Commodity Analysis"
   ]
  },
  {
   "cell_type": "code",
   "execution_count": 7,
   "id": "c390520b",
   "metadata": {},
   "outputs": [
    {
     "data": {
      "text/plain": [
       "MAIZE         120\n",
       "MILLET        120\n",
       "LOCAL RICE    120\n",
       "SORGHUM       120\n",
       "YAM           120\n",
       "COCOYAM       120\n",
       "Name: COMMODITY, dtype: int64"
      ]
     },
     "execution_count": 7,
     "metadata": {},
     "output_type": "execute_result"
    }
   ],
   "source": [
    "ws_price.COMMODITY.value_counts()"
   ]
  },
  {
   "cell_type": "markdown",
   "id": "51d5a2aa",
   "metadata": {},
   "source": [
    "There are equal amounts of every commodity."
   ]
  },
  {
   "cell_type": "markdown",
   "id": "933ac421",
   "metadata": {},
   "source": [
    "### Weight Analysis"
   ]
  },
  {
   "cell_type": "code",
   "execution_count": 8,
   "id": "1e09beee",
   "metadata": {},
   "outputs": [
    {
     "data": {
      "text/plain": [
       "100    240\n",
       "93     120\n",
       "109    120\n",
       "250    120\n",
       "91     120\n",
       "Name: WEIGHT, KG PER BAG, dtype: int64"
      ]
     },
     "execution_count": 8,
     "metadata": {},
     "output_type": "execute_result"
    }
   ],
   "source": [
    "ws_price['WEIGHT, KG PER BAG'].value_counts()"
   ]
  },
  {
   "cell_type": "code",
   "execution_count": 9,
   "id": "12c5d19f",
   "metadata": {
    "scrolled": true
   },
   "outputs": [
    {
     "data": {
      "image/png": "[encoded data removed]",
      "text/plain": [
       "<Figure size 432x288 with 1 Axes>"
      ]
     },
     "metadata": {
      "needs_background": "light"
     },
     "output_type": "display_data"
    }
   ],
   "source": [
    "plt.hist(ws_price['WEIGHT, KG PER BAG'], bins=15)\n",
    "plt.show()"
   ]
  },
  {
   "cell_type": "code",
   "execution_count": 10,
   "id": "f5b16c58",
   "metadata": {},
   "outputs": [
    {
     "data": {
      "text/plain": [
       "count    720.000000\n",
       "mean     123.833333\n",
       "std       56.759258\n",
       "min       91.000000\n",
       "25%       93.000000\n",
       "50%      100.000000\n",
       "75%      109.000000\n",
       "max      250.000000\n",
       "Name: WEIGHT, KG PER BAG, dtype: float64"
      ]
     },
     "execution_count": 10,
     "metadata": {},
     "output_type": "execute_result"
    }
   ],
   "source": [
    "ws_price['WEIGHT, KG PER BAG'].describe()"
   ]
  },
  {
   "cell_type": "code",
   "execution_count": 11,
   "id": "4d6902aa",
   "metadata": {
    "scrolled": false
   },
   "outputs": [
    {
     "data": {
      "image/png": "[encoded data removed]",
      "text/plain": [
       "<Figure size 432x288 with 1 Axes>"
      ]
     },
     "metadata": {
      "needs_background": "light"
     },
     "output_type": "display_data"
    }
   ],
   "source": [
    "plt.boxplot(ws_price['WEIGHT, KG PER BAG'])\n",
    "plt.show()"
   ]
  },
  {
   "cell_type": "code",
   "execution_count": 12,
   "id": "71aec15b",
   "metadata": {},
   "outputs": [
    {
     "name": "stdout",
     "output_type": "stream",
     "text": [
      "133.0\n"
     ]
    }
   ],
   "source": [
    "weight_first_quartile =  93.000000\n",
    "weight_second_quartile = 100.000000\n",
    "weight_third_quartile =  109.000000\n",
    "weight_IQR = weight_third_quartile - weight_first_quartile\n",
    "weight_outlier_range = weight_third_quartile + (1.5 * weight_IQR)\n",
    "print(weight_outlier_range)"
   ]
  },
  {
   "cell_type": "code",
   "execution_count": 13,
   "id": "e4b0343e",
   "metadata": {},
   "outputs": [
    {
     "data": {
      "text/plain": [
       "240"
      ]
     },
     "execution_count": 13,
     "metadata": {},
     "output_type": "execute_result"
    }
   ],
   "source": [
    "len(ws_price.loc[ws_price['WEIGHT, KG PER BAG'] < weight_second_quartile])"
   ]
  },
  {
   "cell_type": "code",
   "execution_count": 14,
   "id": "d4d3b2b4",
   "metadata": {},
   "outputs": [
    {
     "data": {
      "text/plain": [
       "120"
      ]
     },
     "execution_count": 14,
     "metadata": {},
     "output_type": "execute_result"
    }
   ],
   "source": [
    "len(ws_price.loc[ws_price['WEIGHT, KG PER BAG'] > weight_outlier_range])"
   ]
  },
  {
   "cell_type": "markdown",
   "id": "2e827fea",
   "metadata": {},
   "source": [
    "240(33.3%) commodities have their weight to be less than the median weight. The remaining 66.7% have higher weights and this forms majority of the commodities.  "
   ]
  },
  {
   "cell_type": "markdown",
   "id": "b83b7cf3",
   "metadata": {},
   "source": [
    "### Month Analysis"
   ]
  },
  {
   "cell_type": "code",
   "execution_count": 15,
   "id": "dadaaf8a",
   "metadata": {},
   "outputs": [
    {
     "data": {
      "text/plain": [
       "JANUARY      60\n",
       "FEBRUARY     60\n",
       "MARCH        60\n",
       "APRIL        60\n",
       "MAY          60\n",
       "JUNE         60\n",
       "JULY         60\n",
       "AUGUST       60\n",
       "SEPTEMBER    60\n",
       "OCTOBER      60\n",
       "NOVEMBER     60\n",
       "DECEMBER     60\n",
       "Name: MONTH, dtype: int64"
      ]
     },
     "execution_count": 15,
     "metadata": {},
     "output_type": "execute_result"
    }
   ],
   "source": [
    "ws_price.MONTH.value_counts()"
   ]
  },
  {
   "cell_type": "markdown",
   "id": "fad2ead8",
   "metadata": {},
   "source": [
    "### Year Analysis"
   ]
  },
  {
   "cell_type": "code",
   "execution_count": 16,
   "id": "36979ab9",
   "metadata": {},
   "outputs": [
    {
     "data": {
      "text/plain": [
       "2013    78\n",
       "2008    72\n",
       "2009    72\n",
       "2010    72\n",
       "2011    72\n",
       "2012    72\n",
       "2015    72\n",
       "2016    72\n",
       "2017    72\n",
       "2014    66\n",
       "Name: YEAR, dtype: int64"
      ]
     },
     "execution_count": 16,
     "metadata": {},
     "output_type": "execute_result"
    }
   ],
   "source": [
    "ws_price.YEAR.value_counts()"
   ]
  },
  {
   "cell_type": "code",
   "execution_count": 17,
   "id": "2492b587",
   "metadata": {},
   "outputs": [
    {
     "data": {
      "text/plain": [
       "array([2008, 2009, 2010, 2011, 2012, 2013, 2014, 2015, 2016, 2017],\n",
       "      dtype=int64)"
      ]
     },
     "execution_count": 17,
     "metadata": {},
     "output_type": "execute_result"
    }
   ],
   "source": [
    "ws_price.YEAR.unique()"
   ]
  },
  {
   "cell_type": "markdown",
   "id": "8b748325",
   "metadata": {},
   "source": [
    "### Price Analysis"
   ]
  },
  {
   "cell_type": "code",
   "execution_count": 18,
   "id": "03c567ac",
   "metadata": {
    "scrolled": false
   },
   "outputs": [
    {
     "data": {
      "image/png": "[encoded data removed]",
      "text/plain": [
       "<Figure size 432x288 with 1 Axes>"
      ]
     },
     "metadata": {
      "needs_background": "light"
     },
     "output_type": "display_data"
    }
   ],
   "source": [
    "plt.hist(ws_price[' PRICE, ¢ GH'])\n",
    "plt.show()"
   ]
  },
  {
   "cell_type": "code",
   "execution_count": 19,
   "id": "61da5609",
   "metadata": {},
   "outputs": [
    {
     "data": {
      "image/png": "[encoded data removed]",
      "text/plain": [
       "<Figure size 432x288 with 1 Axes>"
      ]
     },
     "metadata": {
      "needs_background": "light"
     },
     "output_type": "display_data"
    }
   ],
   "source": [
    "plt.boxplot(ws_price[' PRICE, ¢ GH'])\n",
    "plt.show()"
   ]
  },
  {
   "cell_type": "code",
   "execution_count": 20,
   "id": "65ba55ed",
   "metadata": {},
   "outputs": [
    {
     "data": {
      "text/plain": [
       "count    720.000000\n",
       "mean     113.982091\n",
       "std      162.115749\n",
       "min        0.007000\n",
       "25%       15.141000\n",
       "50%       52.390000\n",
       "75%      140.122500\n",
       "max      920.550000\n",
       "Name:  PRICE, ¢ GH, dtype: float64"
      ]
     },
     "execution_count": 20,
     "metadata": {},
     "output_type": "execute_result"
    }
   ],
   "source": [
    "ws_price[' PRICE, ¢ GH'].describe()"
   ]
  },
  {
   "cell_type": "code",
   "execution_count": 21,
   "id": "f9bd844c",
   "metadata": {},
   "outputs": [
    {
     "name": "stdout",
     "output_type": "stream",
     "text": [
      "327.59475\n"
     ]
    }
   ],
   "source": [
    "price_first_quartile = 15.141000\n",
    "price_second_quartile = 52.390000\n",
    "price_third_quartile = 140.122500\n",
    "price_IQR = price_third_quartile - price_first_quartile\n",
    "price_outlier_range = price_third_quartile + (1.5 * price_IQR)\n",
    "print(price_outlier_range)"
   ]
  },
  {
   "cell_type": "code",
   "execution_count": 22,
   "id": "81d93985",
   "metadata": {},
   "outputs": [
    {
     "data": {
      "text/plain": [
       "360"
      ]
     },
     "execution_count": 22,
     "metadata": {},
     "output_type": "execute_result"
    }
   ],
   "source": [
    "len(ws_price.loc[ws_price[' PRICE, ¢ GH'] < price_second_quartile])"
   ]
  },
  {
   "cell_type": "code",
   "execution_count": 23,
   "id": "d514ee7e",
   "metadata": {},
   "outputs": [
    {
     "data": {
      "text/plain": [
       "66"
      ]
     },
     "execution_count": 23,
     "metadata": {},
     "output_type": "execute_result"
    }
   ],
   "source": [
    "len(ws_price.loc[ws_price[' PRICE, ¢ GH'] > price_outlier_range])"
   ]
  },
  {
   "cell_type": "markdown",
   "id": "20211d87",
   "metadata": {},
   "source": [
    "360 commodities(50%) have their prices to be below the median price. The 66 commodities(9.2%) lying outside the outlier range are extremely overpriced. 41% commodities are priced higher than the lower commodities."
   ]
  },
  {
   "cell_type": "markdown",
   "id": "2cff0d47",
   "metadata": {},
   "source": [
    "# Multivariate Analysis"
   ]
  },
  {
   "cell_type": "code",
   "execution_count": 24,
   "id": "26d08ead",
   "metadata": {},
   "outputs": [
    {
     "data": {
      "text/plain": [
       "array(['MAIZE', 'MILLET', 'LOCAL RICE', 'SORGHUM', 'YAM', 'COCOYAM'],\n",
       "      dtype=object)"
      ]
     },
     "execution_count": 24,
     "metadata": {},
     "output_type": "execute_result"
    }
   ],
   "source": [
    "ws_price.COMMODITY.unique()"
   ]
  },
  {
   "cell_type": "code",
   "execution_count": 51,
   "id": "31ae2d5d",
   "metadata": {},
   "outputs": [
    {
     "data": {
      "text/plain": [
       "Index(['YAM', 'SORGHUM', 'COCOYAM', 'LOCAL RICE', 'MAIZE', 'MILLET'], dtype='object', name='COMMODITY')"
      ]
     },
     "execution_count": 51,
     "metadata": {},
     "output_type": "execute_result"
    }
   ],
   "source": [
    "ws_price.groupby(['COMMODITY'])[' PRICE, ¢ GH'].sum().sort_values(ascending = False).keys()"
   ]
  },
  {
   "cell_type": "code",
   "execution_count": 36,
   "id": "379d9dfb",
   "metadata": {},
   "outputs": [
    {
     "data": {
      "image/png": "[encoded data removed]",
      "text/plain": [
       "<Figure size 432x288 with 1 Axes>"
      ]
     },
     "metadata": {
      "needs_background": "light"
     },
     "output_type": "display_data"
    }
   ],
   "source": [
    "commodity = ['YAM', 'SORGHUM', 'COCOYAM', 'LOCAL RICE', 'MAIZE', 'MILLET']\n",
    "plt.bar(commodity,ws_price.groupby(['COMMODITY'])[' PRICE, ¢ GH'].sum().sort_values(ascending = False))\n",
    "plt.xticks(rotation=90)\n",
    "plt.show()"
   ]
  },
  {
   "cell_type": "code",
   "execution_count": 41,
   "id": "e400b6c2",
   "metadata": {
    "scrolled": false
   },
   "outputs": [
    {
     "data": {
      "text/plain": [
       "Index(['YAM', 'SORGHUM', 'LOCAL RICE', 'MAIZE', 'MILLET', 'COCOYAM'], dtype='object', name='COMMODITY')"
      ]
     },
     "execution_count": 41,
     "metadata": {},
     "output_type": "execute_result"
    }
   ],
   "source": [
    "ws_price.groupby(['COMMODITY'])['WEIGHT, KG PER BAG'].sum().sort_values(ascending = False).keys()"
   ]
  },
  {
   "cell_type": "code",
   "execution_count": 42,
   "id": "1d920e01",
   "metadata": {
    "scrolled": false
   },
   "outputs": [
    {
     "data": {
      "image/png": "[encoded data removed]",
      "text/plain": [
       "<Figure size 432x288 with 1 Axes>"
      ]
     },
     "metadata": {
      "needs_background": "light"
     },
     "output_type": "display_data"
    }
   ],
   "source": [
    "commodity = ['YAM', 'SORGHUM', 'LOCAL RICE', 'MAIZE', 'MILLET', 'COCOYAM']\n",
    "plt.bar(commodity, ws_price.groupby(['COMMODITY'])['WEIGHT, KG PER BAG'].sum().sort_values(ascending = False))\n",
    "plt.xticks(rotation=90)\n",
    "plt.show()"
   ]
  },
  {
   "cell_type": "markdown",
   "id": "142c9a92",
   "metadata": {},
   "source": [
    "Yam  & sorghum are the only commodities that have proportional weights and prices and have the highest sum prices with yam having the highest sum weight. Maize and millet have the lowest sum prices and relatively low sum weights. Cocoyam has the lowest sum weight. "
   ]
  },
  {
   "cell_type": "code",
   "execution_count": 27,
   "id": "06206e5d",
   "metadata": {
    "scrolled": true
   },
   "outputs": [
    {
     "data": {
      "text/plain": [
       "Index(['YEAR', 'MONTH', 'COMMODITY', 'WEIGHT, KG PER BAG', ' PRICE, ¢ GH'], dtype='object')"
      ]
     },
     "execution_count": 27,
     "metadata": {},
     "output_type": "execute_result"
    }
   ],
   "source": [
    "ws_price.columns"
   ]
  },
  {
   "cell_type": "code",
   "execution_count": 52,
   "id": "7fae300f",
   "metadata": {
    "scrolled": false
   },
   "outputs": [
    {
     "name": "stderr",
     "output_type": "stream",
     "text": [
      "C:\\Users\\Eunice\\AppData\\Local\\Temp/ipykernel_11716/1648872853.py:1: FutureWarning: Indexing with multiple keys (implicitly converted to a tuple of keys) will be deprecated, use a list instead.\n",
      "  ws_price.groupby(['YEAR'])['COMMODITY',' PRICE, ¢ GH','MONTH'].max()\n"
     ]
    },
    {
     "data": {
      "text/html": [
       "<div>\n",
       "<style scoped>\n",
       "    .dataframe tbody tr th:only-of-type {\n",
       "        vertical-align: middle;\n",
       "    }\n",
       "\n",
       "    .dataframe tbody tr th {\n",
       "        vertical-align: top;\n",
       "    }\n",
       "\n",
       "    .dataframe thead th {\n",
       "        text-align: right;\n",
       "    }\n",
       "</style>\n",
       "<table border=\"1\" class=\"dataframe\">\n",
       "  <thead>\n",
       "    <tr style=\"text-align: right;\">\n",
       "      <th></th>\n",
       "      <th>COMMODITY</th>\n",
       "      <th>PRICE, ¢ GH</th>\n",
       "      <th>MONTH</th>\n",
       "    </tr>\n",
       "    <tr>\n",
       "      <th>YEAR</th>\n",
       "      <th></th>\n",
       "      <th></th>\n",
       "      <th></th>\n",
       "    </tr>\n",
       "  </thead>\n",
       "  <tbody>\n",
       "    <tr>\n",
       "      <th>2008</th>\n",
       "      <td>YAM</td>\n",
       "      <td>689.87</td>\n",
       "      <td>SEPTEMBER</td>\n",
       "    </tr>\n",
       "    <tr>\n",
       "      <th>2009</th>\n",
       "      <td>YAM</td>\n",
       "      <td>920.55</td>\n",
       "      <td>SEPTEMBER</td>\n",
       "    </tr>\n",
       "    <tr>\n",
       "      <th>2010</th>\n",
       "      <td>YAM</td>\n",
       "      <td>884.20</td>\n",
       "      <td>SEPTEMBER</td>\n",
       "    </tr>\n",
       "    <tr>\n",
       "      <th>2011</th>\n",
       "      <td>YAM</td>\n",
       "      <td>202.10</td>\n",
       "      <td>SEPTEMBER</td>\n",
       "    </tr>\n",
       "    <tr>\n",
       "      <th>2012</th>\n",
       "      <td>YAM</td>\n",
       "      <td>280.46</td>\n",
       "      <td>SEPTEMBER</td>\n",
       "    </tr>\n",
       "    <tr>\n",
       "      <th>2013</th>\n",
       "      <td>YAM</td>\n",
       "      <td>297.40</td>\n",
       "      <td>SEPTEMBER</td>\n",
       "    </tr>\n",
       "    <tr>\n",
       "      <th>2014</th>\n",
       "      <td>YAM</td>\n",
       "      <td>344.45</td>\n",
       "      <td>SEPTEMBER</td>\n",
       "    </tr>\n",
       "    <tr>\n",
       "      <th>2015</th>\n",
       "      <td>YAM</td>\n",
       "      <td>378.35</td>\n",
       "      <td>SEPTEMBER</td>\n",
       "    </tr>\n",
       "    <tr>\n",
       "      <th>2016</th>\n",
       "      <td>YAM</td>\n",
       "      <td>524.89</td>\n",
       "      <td>SEPTEMBER</td>\n",
       "    </tr>\n",
       "    <tr>\n",
       "      <th>2017</th>\n",
       "      <td>YAM</td>\n",
       "      <td>637.65</td>\n",
       "      <td>SEPTEMBER</td>\n",
       "    </tr>\n",
       "  </tbody>\n",
       "</table>\n",
       "</div>"
      ],
      "text/plain": [
       "     COMMODITY   PRICE, ¢ GH      MONTH\n",
       "YEAR                                   \n",
       "2008       YAM        689.87  SEPTEMBER\n",
       "2009       YAM        920.55  SEPTEMBER\n",
       "2010       YAM        884.20  SEPTEMBER\n",
       "2011       YAM        202.10  SEPTEMBER\n",
       "2012       YAM        280.46  SEPTEMBER\n",
       "2013       YAM        297.40  SEPTEMBER\n",
       "2014       YAM        344.45  SEPTEMBER\n",
       "2015       YAM        378.35  SEPTEMBER\n",
       "2016       YAM        524.89  SEPTEMBER\n",
       "2017       YAM        637.65  SEPTEMBER"
      ]
     },
     "execution_count": 52,
     "metadata": {},
     "output_type": "execute_result"
    }
   ],
   "source": [
    "ws_price.groupby(['YEAR'])['COMMODITY',' PRICE, ¢ GH','MONTH'].max()"
   ]
  },
  {
   "cell_type": "code",
   "execution_count": 29,
   "id": "34a1d7ef",
   "metadata": {
    "scrolled": false
   },
   "outputs": [
    {
     "name": "stderr",
     "output_type": "stream",
     "text": [
      "C:\\Users\\Eunice\\AppData\\Local\\Temp/ipykernel_11716/2331709662.py:1: FutureWarning: Indexing with multiple keys (implicitly converted to a tuple of keys) will be deprecated, use a list instead.\n",
      "  ws_price.groupby(['YEAR'])['COMMODITY',' PRICE, ¢ GH','MONTH'].min()\n"
     ]
    },
    {
     "data": {
      "text/html": [
       "<div>\n",
       "<style scoped>\n",
       "    .dataframe tbody tr th:only-of-type {\n",
       "        vertical-align: middle;\n",
       "    }\n",
       "\n",
       "    .dataframe tbody tr th {\n",
       "        vertical-align: top;\n",
       "    }\n",
       "\n",
       "    .dataframe thead th {\n",
       "        text-align: right;\n",
       "    }\n",
       "</style>\n",
       "<table border=\"1\" class=\"dataframe\">\n",
       "  <thead>\n",
       "    <tr style=\"text-align: right;\">\n",
       "      <th></th>\n",
       "      <th>COMMODITY</th>\n",
       "      <th>PRICE, ¢ GH</th>\n",
       "      <th>MONTH</th>\n",
       "    </tr>\n",
       "    <tr>\n",
       "      <th>YEAR</th>\n",
       "      <th></th>\n",
       "      <th></th>\n",
       "      <th></th>\n",
       "    </tr>\n",
       "  </thead>\n",
       "  <tbody>\n",
       "    <tr>\n",
       "      <th>2008</th>\n",
       "      <td>COCOYAM</td>\n",
       "      <td>0.131</td>\n",
       "      <td>APRIL</td>\n",
       "    </tr>\n",
       "    <tr>\n",
       "      <th>2009</th>\n",
       "      <td>COCOYAM</td>\n",
       "      <td>3.317</td>\n",
       "      <td>APRIL</td>\n",
       "    </tr>\n",
       "    <tr>\n",
       "      <th>2010</th>\n",
       "      <td>COCOYAM</td>\n",
       "      <td>4.382</td>\n",
       "      <td>APRIL</td>\n",
       "    </tr>\n",
       "    <tr>\n",
       "      <th>2011</th>\n",
       "      <td>COCOYAM</td>\n",
       "      <td>0.007</td>\n",
       "      <td>APRIL</td>\n",
       "    </tr>\n",
       "    <tr>\n",
       "      <th>2012</th>\n",
       "      <td>COCOYAM</td>\n",
       "      <td>0.010</td>\n",
       "      <td>APRIL</td>\n",
       "    </tr>\n",
       "    <tr>\n",
       "      <th>2013</th>\n",
       "      <td>COCOYAM</td>\n",
       "      <td>0.008</td>\n",
       "      <td>APRIL</td>\n",
       "    </tr>\n",
       "    <tr>\n",
       "      <th>2014</th>\n",
       "      <td>COCOYAM</td>\n",
       "      <td>0.010</td>\n",
       "      <td>APRIL</td>\n",
       "    </tr>\n",
       "    <tr>\n",
       "      <th>2015</th>\n",
       "      <td>COCOYAM</td>\n",
       "      <td>0.010</td>\n",
       "      <td>APRIL</td>\n",
       "    </tr>\n",
       "    <tr>\n",
       "      <th>2016</th>\n",
       "      <td>COCOYAM</td>\n",
       "      <td>0.010</td>\n",
       "      <td>APRIL</td>\n",
       "    </tr>\n",
       "    <tr>\n",
       "      <th>2017</th>\n",
       "      <td>COCOYAM</td>\n",
       "      <td>0.020</td>\n",
       "      <td>APRIL</td>\n",
       "    </tr>\n",
       "  </tbody>\n",
       "</table>\n",
       "</div>"
      ],
      "text/plain": [
       "     COMMODITY   PRICE, ¢ GH  MONTH\n",
       "YEAR                               \n",
       "2008   COCOYAM         0.131  APRIL\n",
       "2009   COCOYAM         3.317  APRIL\n",
       "2010   COCOYAM         4.382  APRIL\n",
       "2011   COCOYAM         0.007  APRIL\n",
       "2012   COCOYAM         0.010  APRIL\n",
       "2013   COCOYAM         0.008  APRIL\n",
       "2014   COCOYAM         0.010  APRIL\n",
       "2015   COCOYAM         0.010  APRIL\n",
       "2016   COCOYAM         0.010  APRIL\n",
       "2017   COCOYAM         0.020  APRIL"
      ]
     },
     "execution_count": 29,
     "metadata": {},
     "output_type": "execute_result"
    }
   ],
   "source": [
    "ws_price.groupby(['YEAR'])['COMMODITY',' PRICE, ¢ GH','MONTH'].min()"
   ]
  },
  {
   "cell_type": "markdown",
   "id": "bbefc452",
   "metadata": {},
   "source": [
    "From 2008-2017, in the month September of each year, Yam dominated the market with the highest price and Cocoyam had the lowest prices compared to the the others especially in the month April."
   ]
  },
  {
   "cell_type": "code",
   "execution_count": 30,
   "id": "60810613",
   "metadata": {},
   "outputs": [
    {
     "data": {
      "text/plain": [
       "array([2008, 2009, 2010, 2011, 2012, 2013, 2014, 2015, 2016, 2017],\n",
       "      dtype=int64)"
      ]
     },
     "execution_count": 30,
     "metadata": {},
     "output_type": "execute_result"
    }
   ],
   "source": [
    "ws_price.YEAR.unique()"
   ]
  },
  {
   "cell_type": "code",
   "execution_count": 54,
   "id": "10d79f10",
   "metadata": {
    "scrolled": true
   },
   "outputs": [
    {
     "data": {
      "image/png": "[encoded data removed]",
      "text/plain": [
       "<Figure size 432x288 with 1 Axes>"
      ]
     },
     "metadata": {
      "needs_background": "light"
     },
     "output_type": "display_data"
    }
   ],
   "source": [
    "years = np.array([2008, 2009, 2010, 2011, 2012, 2013,2014, 2015, 2016, 2017])\n",
    "plt.plot(years,ws_price.groupby(['YEAR'])[' PRICE, ¢ GH'].sum())\n",
    "plt.show()"
   ]
  },
  {
   "cell_type": "markdown",
   "id": "c9d9ea9b",
   "metadata": {},
   "source": [
    "From 2010 to 2011, the general price of all commodities experienced a huge decline but quickly went back up as the years progressed."
   ]
  }
 ],
 "metadata": {
  "kernelspec": {
   "display_name": "Python 3 (ipykernel)",
   "language": "python",
   "name": "python3"
  },
  "language_info": {
   "codemirror_mode": {
    "name": "ipython",
    "version": 3
   },
   "file_extension": ".py",
   "mimetype": "text/x-python",
   "name": "python",
   "nbconvert_exporter": "python",
   "pygments_lexer": "ipython3",
   "version": "3.9.7"
  }
 },
 "nbformat": 4,
 "nbformat_minor": 5
}
